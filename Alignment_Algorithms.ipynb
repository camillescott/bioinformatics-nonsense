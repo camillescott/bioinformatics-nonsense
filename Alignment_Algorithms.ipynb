{
 "cells": [
  {
   "cell_type": "markdown",
   "metadata": {},
   "source": [
    "## Needleman-Wunsch"
   ]
  },
  {
   "cell_type": "markdown",
   "metadata": {},
   "source": [
    "Needleman-Wunsch is the most basic global alignment algorithm. It uses a dynamic programming approach to find all alignments between two sequences which are optimal with respect to some pre-determined scores for matches, mismatches, and gaps. Needleman-Wunsch attempts to maximize the alignment score by efficiently testing all possible alignments (in so far as testing all possible alignments can be efficient, in this case $O(n^3)$).\n",
    "\n",
    "The basic version originally described by its authors uses the simple scoring technique described above. More advanced techniques use a mismatch matrix to assign different scores depending on which residues are being compared; for example, we might want a mismatch between G and C to have a lower penalty than between G and A. The simple implementation below opts to use the original naive system."
   ]
  },
  {
   "cell_type": "markdown",
   "metadata": {},
   "source": [
    "### Code"
   ]
  },
  {
   "cell_type": "code",
   "execution_count": 3,
   "metadata": {
    "collapsed": true
   },
   "outputs": [],
   "source": [
    "DEFAULT_GAP = -6\n",
    "DEFAULT_MATCH = 5\n",
    "DEFAULT_MISMATCH = -2"
   ]
  },
  {
   "cell_type": "code",
   "execution_count": 4,
   "metadata": {
    "collapsed": true
   },
   "outputs": [],
   "source": [
    "def NW_makeTable(X, Y, g):\n",
    "    ''' Given 2 sequences and the gap penalty, construct the Needleman-Wunsch starting table.\n",
    "    \n",
    "    Args:\n",
    "        X (str): The first sequence.\n",
    "        Y (str): The second sequence.\n",
    "        g (int): The gap penalty.\n",
    "    \n",
    "    Returns:\n",
    "        list: A len(X)+1 by len(Y)+1 table where all positions are 0 except the first row and column,\n",
    "        which are filled linearly with the gap penalty.\n",
    "    \n",
    "    '''\n",
    "    table = []\n",
    "    for i in range(0, len(X)+1):\n",
    "        table.append([0]*(len(Y)+1))\n",
    "    for i in range(0,len(X)+1,1):\n",
    "        table[i][0] = i*g\n",
    "    for j in range(0,len(Y)+1,1):\n",
    "        table[0][j] = j*g\n",
    "\n",
    "    return table\n",
    "\n",
    "\n",
    "def printTable(table, X, Y):\n",
    "    ''' Print out a scoring table and its two sequences in a nice format.\n",
    "    \n",
    "    Args:\n",
    "        table (list): The Needleman-Wunsch scoring table.\n",
    "        X (str): The first sequence, with sentinal character.\n",
    "        Y (str): The second sequence, with sentinal character.\n",
    "    '''\n",
    "    pt = ' '\n",
    "\n",
    "    for y in Y:\n",
    "        pt += y.rjust(4)\n",
    "    pt += '\\n'\n",
    "    for i in range(0, len(table)):\n",
    "        prow = X[i]\n",
    "        for c in table[i]:\n",
    "            prow += str(c).rjust(4)\n",
    "        prow += '\\n'\n",
    "        pt += prow\n",
    "    print pt\n",
    "\n",
    "\n",
    "def NW_traceBack(table, X, Y, g, m, n, i, j, a1, a2, results):\n",
    "    ''' Recursively traceback a scoring table to construct the alignments.\n",
    "    \n",
    "    Args:\n",
    "        table (list): The completed scoring table.\n",
    "        X (str): The first sequence, with sentinal.\n",
    "        Y (str): The second sequence, with sentinal.\n",
    "        g (int): The gap penalty.\n",
    "        m (int): The match score.\n",
    "        n (int): The mismatch penalty.\n",
    "        i (int): The index in X.\n",
    "        j (int): The index in Y.\n",
    "        a1 (str): The alignment string for X.\n",
    "        a2 (str): The alignment string for Y.\n",
    "        results (list): List object to place results in.\n",
    "    '''\n",
    "    \n",
    "    if i < 0 or j < 0:\n",
    "        raise IndexError('Tracback went out of bounds ({i},{j})'.format(i=i, j=j))\n",
    "    if i == 0 and j != 0:\n",
    "        NW_traceBack(table, X, Y, g, m, n, i, j-1, a1+'-', a2+Y[j], results)\n",
    "    if j == 0 and i != 0:\n",
    "        NW_traceBack(table, X, Y, g, m, n, i-1, j, a1+X[i], a2+'-', results)\n",
    "    if i == 0 and j == 0:\n",
    "        a1 = a1[::-1]\n",
    "        a2 = a2[::-1]\n",
    "        results.append((a1, a2))\n",
    "    else:\n",
    "        a = table[i][j]\n",
    "        b = table[i-1][j]\n",
    "        c = table[i][j-1]\n",
    "        d = table[i-1][j-1]\n",
    "        if a-d == m and X[i] == Y[j]:\n",
    "            NW_traceBack(table, X, Y, g, m, n, i-1, j-1, a1+X[i], a2+Y[j], results)\n",
    "        if a-d == n and X[i] != Y[j]:\n",
    "            NW_traceBack(table, X, Y, g, m, n, i-1, j-1, a1+X[i], a2+Y[j], results)\n",
    "        if a - b == g:\n",
    "            NW_traceBack(table, X, Y, g, m, n, i-1, j, a1+X[i], a2+'-', results)\n",
    "        if a - c == g:\n",
    "            NW_traceBack(table, X, Y, g, m, n, i, j-1, a1+'-', a2+Y[j], results)"
   ]
  },
  {
   "cell_type": "code",
   "execution_count": 5,
   "metadata": {
    "collapsed": false
   },
   "outputs": [],
   "source": [
    "def NeedlemanWunsch(X, Y, gap, match, mismatch, quiet=True):\n",
    "    ''' Perform a global alignment between the sequences X and Y using the Needleman-Wunsch algorithm.\n",
    "    \n",
    "    Args:\n",
    "        X (str): The first sequence to be aligned.\n",
    "        Y (str): The second sequence to be aligned.\n",
    "        gap (int): The gap penalty.\n",
    "        match (int): The match score.\n",
    "        mismatch (int): The mismatch penalty.\n",
    "        quiet (Optional[bool]): Whether or not to print out diagnostic information. Defaults to True.\n",
    "        \n",
    "    Returns:\n",
    "        list: A list of the optimal alignments.\n",
    "    '''\n",
    "    table = NW_makeTable(X, Y, gap)\n",
    "    \n",
    "    if not quiet:\n",
    "        print \"===Needleman-Wunsch Global Alignment===\"\n",
    "        print \"Table Initialized\"\n",
    "        \n",
    "    X = '*' + X\n",
    "    Y = '*' + Y\n",
    "    \n",
    "    if not quiet:\n",
    "        printTable(table, X, Y)\n",
    "    \n",
    "    score = lambda a, b: match if a == b else mismatch\n",
    "\n",
    "    for i in range(1, len(table)):\n",
    "        for j in range(1, len(table[i])):\n",
    "            a = table[i-1][j-1] + score(X[i], Y[j])\n",
    "            b = table[i-1][j] + gap\n",
    "            c = table[i][j-1] + gap\n",
    "            table[i][j] = max(a, b, c)\n",
    "    \n",
    "    if not quiet:\n",
    "        print \"Completed Table\"\n",
    "        printTable(table, X, Y)\n",
    "\n",
    "        print \"Optimal Global Alignments:\\n\"\n",
    "\n",
    "    results = []\n",
    "    NW_traceBack(table, X, Y, gap, match, mismatch, len(X)-2, len(Y)-2, '', '', results)\n",
    "    if not quiet:\n",
    "        for a1, a2 in results:\n",
    "            print a1, '\\n', a2, '\\n'\n",
    "        print \"--End of Optimal Alignment List--\"\n",
    "\n",
    "    if not quiet:\n",
    "        print \"Parameters: gap={} match={} mismatch={}\".format(gap, match, mismatch)\n",
    "        print \"Optimal Global Alignment Score: {}\".format(table[len(table)-1][len(table[0])-1])\n",
    "        print \"=\" * 60 + '\\n'\n",
    "    \n",
    "    return results"
   ]
  },
  {
   "cell_type": "markdown",
   "metadata": {},
   "source": [
    "### Demonstration"
   ]
  },
  {
   "cell_type": "code",
   "execution_count": 6,
   "metadata": {
    "collapsed": false
   },
   "outputs": [
    {
     "data": {
      "text/plain": [
       "[('A-TT----CGGC-', 'AGTTGGGCCCGCG'),\n",
       " ('A-TT---C-GGC-', 'AGTTGGGCCCGCG'),\n",
       " ('A-TT---CG-GC-', 'AGTTGGGCCCGCG'),\n",
       " ('A-TT-CG---GC-', 'AGTTGGGCCCGCG'),\n",
       " ('A-TTC-G---GC-', 'AGTTGGGCCCGCG'),\n",
       " ('A-TTCG----GC-', 'AGTTGGGCCCGCG'),\n",
       " ('A-TTCGG----C-', 'AGTTGGGCCCGCG'),\n",
       " ('A-TTCGG--C---', 'AGTTGGGCCCGCG'),\n",
       " ('A-TTCGG-C----', 'AGTTGGGCCCGCG'),\n",
       " ('A-TTCGGC-----', 'AGTTGGGCCCGCG')]"
      ]
     },
     "execution_count": 6,
     "metadata": {},
     "output_type": "execute_result"
    }
   ],
   "source": [
    "NeedlemanWunsch('ATTCGGCT', 'AGTTGGGCCCGCGT', DEFAULT_GAP, DEFAULT_MATCH, DEFAULT_MISMATCH, quiet=True)"
   ]
  },
  {
   "cell_type": "code",
   "execution_count": 7,
   "metadata": {
    "collapsed": false,
    "scrolled": false
   },
   "outputs": [
    {
     "name": "stdout",
     "output_type": "stream",
     "text": [
      "===Needleman-Wunsch Global Alignment===\n",
      "Table Initialized\n",
      "    *   G   C   A   T   A   A   G   G   T\n",
      "*   0  -6 -12 -18 -24 -30 -36 -42 -48 -54\n",
      "T  -6   0   0   0   0   0   0   0   0   0\n",
      "A -12   0   0   0   0   0   0   0   0   0\n",
      "T -18   0   0   0   0   0   0   0   0   0\n",
      "A -24   0   0   0   0   0   0   0   0   0\n",
      "T -30   0   0   0   0   0   0   0   0   0\n",
      "A -36   0   0   0   0   0   0   0   0   0\n",
      "T -42   0   0   0   0   0   0   0   0   0\n",
      "A -48   0   0   0   0   0   0   0   0   0\n",
      "T -54   0   0   0   0   0   0   0   0   0\n",
      "A -60   0   0   0   0   0   0   0   0   0\n",
      "\n",
      "Completed Table\n",
      "    *   G   C   A   T   A   A   G   G   T\n",
      "*   0  -6 -12 -18 -24 -30 -36 -42 -48 -54\n",
      "T  -6  -2  -8 -14 -13 -19 -25 -31 -37 -43\n",
      "A -12  -8  -4  -3  -9  -8 -14 -20 -26 -32\n",
      "T -18 -14 -10  -6   2  -4 -10 -16 -22 -21\n",
      "A -24 -20 -16  -5  -4   7   1  -5 -11 -17\n",
      "T -30 -26 -22 -11   0   1   5  -1  -7  -6\n",
      "A -36 -32 -28 -17  -6   5   6   3  -3  -9\n",
      "T -42 -38 -34 -23 -12  -1   3   4   1   2\n",
      "A -48 -44 -40 -29 -18  -7   4   1   2  -1\n",
      "T -54 -50 -46 -35 -24 -13  -2   2  -1   7\n",
      "A -60 -56 -52 -41 -30 -19  -8  -4   0   1\n",
      "\n",
      "Optimal Global Alignments:\n",
      "\n",
      "TATATATAT \n",
      "-GCATAAGG \n",
      "\n",
      "TATATATAT \n",
      "-GCATAAGG \n",
      "\n",
      "TATATATAT \n",
      "G-CATAAGG \n",
      "\n",
      "TATATATAT \n",
      "GC-ATAAGG \n",
      "\n",
      "--End of Optimal Alignment List--\n",
      "Parameters: gap=-6 match=5 mismatch=-2\n",
      "Optimal Global Alignment Score: 1\n",
      "============================================================\n",
      "\n"
     ]
    },
    {
     "data": {
      "text/plain": [
       "[('TATATATAT', '-GCATAAGG'),\n",
       " ('TATATATAT', '-GCATAAGG'),\n",
       " ('TATATATAT', 'G-CATAAGG'),\n",
       " ('TATATATAT', 'GC-ATAAGG')]"
      ]
     },
     "execution_count": 7,
     "metadata": {},
     "output_type": "execute_result"
    }
   ],
   "source": [
    "NeedlemanWunsch('TATATATATA', 'GCATAAGGT', DEFAULT_GAP, DEFAULT_MATCH, DEFAULT_MISMATCH, quiet=False)"
   ]
  },
  {
   "cell_type": "markdown",
   "metadata": {},
   "source": [
    "## Smith-Waterman"
   ]
  },
  {
   "cell_type": "markdown",
   "metadata": {},
   "source": [
    "Smith-Waterman is the companion algorithm to Needleman-Wunsch. However, while the latter performs a global alignment, the former performs a local alignment, by making a few tweaks to the dynamic programming matrix and backtracing. Here, we set the gap row and column to zero, and terminate the backtrace if we reach a zero score."
   ]
  },
  {
   "cell_type": "markdown",
   "metadata": {},
   "source": [
    "### Code"
   ]
  },
  {
   "cell_type": "code",
   "execution_count": 8,
   "metadata": {
    "collapsed": true
   },
   "outputs": [],
   "source": [
    "def SW_makeTable(X, Y):\n",
    "    ''' Given 2 sequences, construct the Smith-Waterman starting table.\n",
    "    \n",
    "    Args:\n",
    "        X (string): The first sequence.\n",
    "        Y (string): The second sequence.\n",
    "    \n",
    "    Returns:\n",
    "        list: A len(X)+1 by len(Y)+1 table where all positions are 0.\n",
    "    \n",
    "    '''\n",
    "    table = []\n",
    "    for i in range(0, len(X)+1):\n",
    "        table.append([0]*(len(Y)+1))\n",
    "\n",
    "    return table"
   ]
  },
  {
   "cell_type": "code",
   "execution_count": 9,
   "metadata": {
    "collapsed": true
   },
   "outputs": [],
   "source": [
    "def SW_traceBack(table, X, Y, g, m, n, i, j, a1, a2, results):\n",
    "    ''' Recursively traceback a Smith-Waterman scoring table to construct the alignments.\n",
    "    \n",
    "    Args:\n",
    "        table (list): The completed scoring table.\n",
    "        X (string): The first sequence, with sentinal.\n",
    "        Y (string): The second sequence, with sentinal.\n",
    "        g (int): The gap penalty.\n",
    "        m (int): The match score.\n",
    "        n (int): The mismatch penalty.\n",
    "        i (int): The index in X.\n",
    "        j (int): The index in Y.\n",
    "        a1 (str): The alignment string for X.\n",
    "        a2 (str): The alignment string for Y.\n",
    "        results (list): List object to place results in.\n",
    "    '''\n",
    "    \n",
    "    if i < 0 or j < 0:\n",
    "        raise IndexError('Tracback went out of bounds ({i},{j})'.format(i=i, j=j))\n",
    "\n",
    "    if i == 0 or j == 0:\n",
    "        a1 = a1[::-1]\n",
    "        a2 = a2[::-1]\n",
    "        results.append((a1, a2))\n",
    "    else:\n",
    "        a = table[i][j]\n",
    "        b = table[i-1][j]\n",
    "        c = table[i][j-1]\n",
    "        d = table[i-1][j-1]\n",
    "        if a-d == m and X[i] == Y[j]:\n",
    "            SW_traceBack(table, X, Y, g, m, n, i-1, j-1, a1+X[i], a2+Y[j], results)\n",
    "        if a-d == n and X[i] != Y[j]:\n",
    "            SW_traceBack(table, X, Y, g, m, n, i-1, j-1, a1+X[i], a2+Y[j], results)\n",
    "        if a - b == g:\n",
    "            SW_traceBack(table, X, Y, g, m, n, i-1, j, a1+X[i], a2+'-', results)\n",
    "        if a - c == g:\n",
    "            SW_traceBack(table, X, Y, g, m, n, i, j-1, a1+'-', a2+Y[j], results)"
   ]
  },
  {
   "cell_type": "code",
   "execution_count": 10,
   "metadata": {
    "collapsed": true
   },
   "outputs": [],
   "source": [
    "def SmithWaterman(X, Y, gap, match, mismatch, quiet=True):\n",
    "    ''' Perform a global alignment between the sequences X and Y using the Smith-Waterman algorithm.\n",
    "    \n",
    "    Args:\n",
    "        X (str): The first sequence to be aligned.\n",
    "        Y (str): The second sequence to be aligned.\n",
    "        gap (int): The gap penalty.\n",
    "        match (int): The match score.\n",
    "        mismatch (int): The mismatch penalty.\n",
    "        quiet (Optional[bool]): Whether or not to print out diagnostic information. Defaults to True.\n",
    "        \n",
    "    Returns:\n",
    "        list: A list of the optimal alignments.\n",
    "    '''\n",
    "    table = SW_makeTable(X, Y)\n",
    "    \n",
    "    if not quiet:\n",
    "        print \"===Smith-Waterman Local Alignment===\"\n",
    "        print \"Table Initialized\"\n",
    "        \n",
    "    X = '*' + X\n",
    "    Y = '*' + Y\n",
    "    \n",
    "    if not quiet:\n",
    "        printTable(table, X, Y)\n",
    "    \n",
    "    score = lambda a, b: match if a == b else mismatch\n",
    "\n",
    "    for i in range(1, len(table)):\n",
    "        for j in range(1, len(table[i])):\n",
    "            a = table[i-1][j-1] + score(X[i], Y[j])\n",
    "            b = table[i-1][j] + gap\n",
    "            c = table[i][j-1] + gap\n",
    "            table[i][j] = max(a, b, c)\n",
    "    \n",
    "    if not quiet:\n",
    "        print \"Completed Table\"\n",
    "        printTable(table, X, Y)\n",
    "\n",
    "        print \"Optimal Local Alignments:\\n\"\n",
    "    \n",
    "    # Smith-Waterman traceback starts at the highest-scoring position. Find it!\n",
    "    max_pos = (0,0)\n",
    "    max_val = 0\n",
    "    for i in xrange(1, len(table)):\n",
    "        for j in xrange(1, len(table[i])):\n",
    "            if table[i][j] > max_val:\n",
    "                max_pos = (i, j)\n",
    "                max_val = table[i][j]\n",
    "    results = []\n",
    "    SW_traceBack(table, X, Y, gap, match, mismatch, max_pos[0], max_pos[1], '', '', results)\n",
    "    if not quiet:\n",
    "        for a1, a2 in results:\n",
    "            print a1, '\\n', a2, '\\n'\n",
    "        print \"--End of Optimal Alignment List--\"\n",
    "\n",
    "    if not quiet:\n",
    "        print \"Parameters: gap={} match={} mismatch={}\".format(gap, match, mismatch)\n",
    "        print \"Optimal Local Alignment Score: {}\".format(table[len(table)-1][len(table[0])-1])\n",
    "        print \"=\" * 60 + '\\n'\n",
    "    \n",
    "    return results"
   ]
  },
  {
   "cell_type": "markdown",
   "metadata": {},
   "source": [
    "### Demonstration"
   ]
  },
  {
   "cell_type": "code",
   "execution_count": 11,
   "metadata": {
    "collapsed": false,
    "scrolled": false
   },
   "outputs": [
    {
     "name": "stdout",
     "output_type": "stream",
     "text": [
      "===Smith-Waterman Local Alignment===\n",
      "Table Initialized\n",
      "    *   G   G   C   C   C   G   G   G   A   A   A   T   T   T   A\n",
      "*   0   0   0   0   0   0   0   0   0   0   0   0   0   0   0   0\n",
      "A   0   0   0   0   0   0   0   0   0   0   0   0   0   0   0   0\n",
      "A   0   0   0   0   0   0   0   0   0   0   0   0   0   0   0   0\n",
      "A   0   0   0   0   0   0   0   0   0   0   0   0   0   0   0   0\n",
      "T   0   0   0   0   0   0   0   0   0   0   0   0   0   0   0   0\n",
      "T   0   0   0   0   0   0   0   0   0   0   0   0   0   0   0   0\n",
      "G   0   0   0   0   0   0   0   0   0   0   0   0   0   0   0   0\n",
      "G   0   0   0   0   0   0   0   0   0   0   0   0   0   0   0   0\n",
      "G   0   0   0   0   0   0   0   0   0   0   0   0   0   0   0   0\n",
      "C   0   0   0   0   0   0   0   0   0   0   0   0   0   0   0   0\n",
      "G   0   0   0   0   0   0   0   0   0   0   0   0   0   0   0   0\n",
      "C   0   0   0   0   0   0   0   0   0   0   0   0   0   0   0   0\n",
      "C   0   0   0   0   0   0   0   0   0   0   0   0   0   0   0   0\n",
      "G   0   0   0   0   0   0   0   0   0   0   0   0   0   0   0   0\n",
      "G   0   0   0   0   0   0   0   0   0   0   0   0   0   0   0   0\n",
      "G   0   0   0   0   0   0   0   0   0   0   0   0   0   0   0   0\n",
      "T   0   0   0   0   0   0   0   0   0   0   0   0   0   0   0   0\n",
      "T   0   0   0   0   0   0   0   0   0   0   0   0   0   0   0   0\n",
      "T   0   0   0   0   0   0   0   0   0   0   0   0   0   0   0   0\n",
      "A   0   0   0   0   0   0   0   0   0   0   0   0   0   0   0   0\n",
      "A   0   0   0   0   0   0   0   0   0   0   0   0   0   0   0   0\n",
      "A   0   0   0   0   0   0   0   0   0   0   0   0   0   0   0   0\n",
      "\n",
      "Completed Table\n",
      "    *   G   G   C   C   C   G   G   G   A   A   A   T   T   T   A\n",
      "*   0   0   0   0   0   0   0   0   0   0   0   0   0   0   0   0\n",
      "A   0  -2  -2  -2  -2  -2  -2  -2  -2   5   5   5  -1  -2  -2   5\n",
      "A   0  -2  -4  -4  -4  -4  -4  -4  -4   3  10  10   4  -2  -4   3\n",
      "A   0  -2  -4  -6  -6  -6  -6  -6  -6   1   8  15   9   3  -3   1\n",
      "T   0  -2  -4  -6  -8  -8  -8  -8  -8  -5   2   9  20  14   8   2\n",
      "T   0  -2  -4  -6  -8 -10 -10 -10 -10 -10  -4   3  14  25  19  13\n",
      "G   0   5   3  -3  -8 -10  -5  -5  -5 -11 -10  -3   8  19  23  17\n",
      "G   0   5  10   4  -2  -8  -5   0   0  -6 -12  -9   2  13  17  21\n",
      "G   0   5  10   8   2  -4  -3   0   5  -1  -7 -13  -4   7  11  15\n",
      "C   0  -1   4  15  13   7   1  -5  -1   3  -3  -9 -10   1   5   9\n",
      "G   0   5   4   9  13  11  12   6   0  -3   1  -5 -11  -5  -1   3\n",
      "C   0  -1   3   9  14  18  12  10   4  -2  -5  -1  -7 -11  -7  -3\n",
      "C   0  -2  -3   8  14  19  16  10   8   2  -4  -7  -3  -9 -13  -9\n",
      "G   0   5   3   2   8  13  24  21  15   9   3  -3  -9  -5 -11 -15\n",
      "G   0   5  10   4   2   7  18  29  26  20  14   8   2  -4  -7 -13\n",
      "G   0   5  10   8   2   1  12  23  34  28  22  16  10   4  -2  -8\n",
      "T   0  -1   4   8   6   0   6  17  28  32  26  20  21  15   9   3\n",
      "T   0  -2  -2   2   6   4   0  11  22  26  30  24  25  26  20  14\n",
      "T   0  -2  -4  -4   0   4   2   5  16  20  24  28  29  30  31  25\n",
      "A   0  -2  -4  -6  -6  -2   2   0  10  21  25  29  26  27  28  36\n",
      "A   0  -2  -4  -6  -8  -8  -4   0   4  15  26  30  27  24  25  33\n",
      "A   0  -2  -4  -6  -8 -10 -10  -6  -2   9  20  31  28  25  22  30\n",
      "\n",
      "Optimal Local Alignments:\n",
      "\n",
      "GGCGCCGGG---TTTA \n",
      "GGC-CCGGGAAATTTA \n",
      "\n",
      "--End of Optimal Alignment List--\n",
      "Parameters: gap=-6 match=5 mismatch=-2\n",
      "Optimal Local Alignment Score: 30\n",
      "============================================================\n",
      "\n"
     ]
    },
    {
     "data": {
      "text/plain": [
       "[('GGCGCCGGG---TTTA', 'GGC-CCGGGAAATTTA')]"
      ]
     },
     "execution_count": 11,
     "metadata": {},
     "output_type": "execute_result"
    }
   ],
   "source": [
    "SmithWaterman('AAATTGGGCGCCGGGTTTAAA', 'GGCCCGGGAAATTTA', DEFAULT_GAP, DEFAULT_MATCH, DEFAULT_MISMATCH, quiet=False)"
   ]
  }
 ],
 "metadata": {
  "kernelspec": {
   "display_name": "Python 2",
   "language": "python",
   "name": "python2"
  },
  "language_info": {
   "codemirror_mode": {
    "name": "ipython",
    "version": 2
   },
   "file_extension": ".py",
   "mimetype": "text/x-python",
   "name": "python",
   "nbconvert_exporter": "python",
   "pygments_lexer": "ipython2",
   "version": "2.7.10"
  }
 },
 "nbformat": 4,
 "nbformat_minor": 0
}
