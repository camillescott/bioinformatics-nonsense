{
 "cells": [
  {
   "cell_type": "markdown",
   "metadata": {},
   "source": [
    "## Bloom Filter"
   ]
  },
  {
   "cell_type": "markdown",
   "metadata": {},
   "source": [
    "The bloom filter, and its relative the count-min sketch, are datastructures for testing set membership. These datastructures are extremely memory efficient, at the cost of having false-positives. This false-positive rate (FPR) is fixed and can be calculated (or estimated) using a few simple properties of both the datastructure and its dataset (more on this later). Both of these datastructures are straight-forward to implement, which is a huge bonus for folks like me -- I don't trust most bioinformatics software not to be full of bugs, so simple and elegant datastructures which are easy to debug put me at ease.\n",
    "\n",
    "In bioinformatics, the bloom filter has proven quite useful for counting k-mers. With noisy data, the existence of some number of false positives is more or less irrelevant, and is an obvious trade-off for datasets that would require hundreds to thousands of gigabytes of data to store exactly. Even more importantly, a bloom filter storing k-mers implicitly encodes a de Bruijn graph which can be used for all manner of sequence traversal operations (most commonly, {gen,transcript,metagen}ome assembly)."
   ]
  },
  {
   "cell_type": "markdown",
   "metadata": {},
   "source": [
    "### Code"
   ]
  },
  {
   "cell_type": "code",
   "execution_count": 82,
   "metadata": {
    "collapsed": false
   },
   "outputs": [],
   "source": [
    "def is_prime(n):\n",
    "    if n < 2:\n",
    "        return False\n",
    "    if n == 2:\n",
    "        return True\n",
    "    if n % 2 == 0:\n",
    "        return False\n",
    "    for i in xrange(3, int(n ** 0.5) + 1, 2):\n",
    "        if n % i == 0:\n",
    "            return False\n",
    "    return True\n",
    "\n",
    "def get_primes(start, n_primes):\n",
    "    primes = []\n",
    "    cur_num = start\n",
    "    if cur_num % 2 == 0:\n",
    "        cur_num -= 1\n",
    "    while len(primes) != n_primes and cur_num > 0:\n",
    "        if is_prime(cur_num):\n",
    "            primes.append(cur_num)\n",
    "        cur_num -= 2\n",
    "    return primes"
   ]
  },
  {
   "cell_type": "code",
   "execution_count": 83,
   "metadata": {
    "collapsed": true
   },
   "outputs": [],
   "source": [
    "class BloomFilter(object):\n",
    "    ''' Super-basic Bloom filter. Interface is similar to the built-in `set`.\n",
    "    \n",
    "    Attributes:\n",
    "        n_tables (int): Number of tables in the filter.\n",
    "        primes (list): Sizes of the tables (and for modulus hashing).\n",
    "        tables (list): List of bool lists storing item existence.\n",
    "    '''\n",
    "    \n",
    "    def __init__(self, n_bins=int(1e6), n_tables=4):\n",
    "        ''' Construct a new BloomFilter.\n",
    "        \n",
    "        The BloomFilter takes the `n_bins` argument and finds the `n_tables` prime numbers\n",
    "        smaller than it. Those primes are the table size in the data structure.\n",
    "        \n",
    "        Args:\n",
    "            n_bins (int): The size of the largest table.\n",
    "            n_tables (int): Number of tables to use.\n",
    "        '''\n",
    "        self.n_tables = n_tables\n",
    "        self.primes = get_primes(n_bins, n_tables)\n",
    "        self.tables = [[False] * b for b in self.primes]\n",
    "    \n",
    "    def get_indices(self, item):\n",
    "        ''' Hash the object and mod it against the `n_tables` primes.\n",
    "        \n",
    "        Args:\n",
    "            item (object): The object to be hashed\n",
    "        '''\n",
    "        return [hash(item) % p for p in self.primes]\n",
    "    \n",
    "    def add(self, item):\n",
    "        ''' Add an item to the filter.\n",
    "        \n",
    "        Args:\n",
    "            item (object): The object to be inserted.\n",
    "        '''\n",
    "        for n, idx in enumerate(self.get_indices(item)):\n",
    "            self.tables[n][idx] = True\n",
    "    \n",
    "    def __contains__(self, item):\n",
    "        ''' Built-in; check if the item is in the filter. An item is in the filter\n",
    "        if its entry in each of `n_tables` tables is True.\n",
    "        \n",
    "        Args:\n",
    "            item (object): The item to check.\n",
    "        '''\n",
    "        # At first I went golfing, but this is for demonstration purposes, sooo....\n",
    "        # return sum([1 for n, idx in enumerate(self.get_indices(item)) if self.table[n][idx]]) == self.n_tables\n",
    "        count = 0\n",
    "        for n, idx in enumerate(self.get_indices(item)):\n",
    "            if self.tables[n][idx] == True:\n",
    "                count += 1\n",
    "        return count == self.n_tables"
   ]
  },
  {
   "cell_type": "markdown",
   "metadata": {},
   "source": [
    "### Demonstration"
   ]
  },
  {
   "cell_type": "code",
   "execution_count": 88,
   "metadata": {
    "collapsed": true
   },
   "outputs": [],
   "source": [
    "hexamers = ['ATGCGC', 'GTCGGT', 'CGGTAG', 'AGGTCG', 'GGGGGG']\n",
    "b = BloomFilter(100, 4)"
   ]
  },
  {
   "cell_type": "code",
   "execution_count": 89,
   "metadata": {
    "collapsed": false
   },
   "outputs": [],
   "source": [
    "for kmer in hexamers[:-1]:\n",
    "    b.add(kmer)"
   ]
  },
  {
   "cell_type": "code",
   "execution_count": 90,
   "metadata": {
    "collapsed": false
   },
   "outputs": [
    {
     "name": "stdout",
     "output_type": "stream",
     "text": [
      "True\n",
      "True\n",
      "True\n",
      "True\n"
     ]
    }
   ],
   "source": [
    "for kmer in hexamers[:-1]:\n",
    "    print kmer in b"
   ]
  },
  {
   "cell_type": "code",
   "execution_count": 91,
   "metadata": {
    "collapsed": false
   },
   "outputs": [
    {
     "name": "stdout",
     "output_type": "stream",
     "text": [
      "False\n"
     ]
    }
   ],
   "source": [
    "print hexamers[-1] in b"
   ]
  },
  {
   "cell_type": "code",
   "execution_count": null,
   "metadata": {
    "collapsed": true
   },
   "outputs": [],
   "source": []
  }
 ],
 "metadata": {
  "kernelspec": {
   "display_name": "Python 2",
   "language": "python",
   "name": "python2"
  },
  "language_info": {
   "codemirror_mode": {
    "name": "ipython",
    "version": 2
   },
   "file_extension": ".py",
   "mimetype": "text/x-python",
   "name": "python",
   "nbconvert_exporter": "python",
   "pygments_lexer": "ipython2",
   "version": "2.7.10"
  }
 },
 "nbformat": 4,
 "nbformat_minor": 0
}
