{
 "cells": [
  {
   "cell_type": "markdown",
   "metadata": {},
   "source": [
    "## Bloom Filter"
   ]
  },
  {
   "cell_type": "markdown",
   "metadata": {},
   "source": [
    "The bloom filter, and its relative the count-min sketch, are datastructures for testing set membership. These datastructures are extremely memory efficient, at the cost of having false-positives. This false-positive rate (FPR) is fixed and can be calculated (or estimated) using a few simple properties of both the datastructure and its dataset (more on this later). Both of these datastructures are straight-forward to implement, which is a huge bonus for folks like me -- I don't trust most bioinformatics software not to be full of bugs, so simple and elegant datastructures which are easy to debug put me at ease.\n",
    "\n",
    "In bioinformatics, the bloom filter has proven quite useful for counting k-mers. With noisy data, the existence of some number of false positives is more or less irrelevant, and is an obvious trade-off for datasets that would require hundreds to thousands of gigabytes of data to store exactly. Even more importantly, a bloom filter storing k-mers implicitly encodes a de Bruijn graph which can be used for all manner of sequence traversal operations (most commonly, {gen,transcript,metagen}ome assembly)."
   ]
  },
  {
   "cell_type": "markdown",
   "metadata": {},
   "source": [
    "### Code"
   ]
  },
  {
   "cell_type": "code",
   "execution_count": null,
   "metadata": {
    "collapsed": true
   },
   "outputs": [],
   "source": [
    "class BloomFilter(object):\n",
    "    \n",
    "    def __init__(self, bins=1e6, tables=4):\n",
    "        self.table = [False] * (bins * tables)\n",
    "        "
   ]
  }
 ],
 "metadata": {
  "kernelspec": {
   "display_name": "Python 2",
   "language": "python",
   "name": "python2"
  },
  "language_info": {
   "codemirror_mode": {
    "name": "ipython",
    "version": 2
   },
   "file_extension": ".py",
   "mimetype": "text/x-python",
   "name": "python",
   "nbconvert_exporter": "python",
   "pygments_lexer": "ipython2",
   "version": "2.7.10"
  }
 },
 "nbformat": 4,
 "nbformat_minor": 0
}
