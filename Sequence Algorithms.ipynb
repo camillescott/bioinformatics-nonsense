{
 "cells": [
  {
   "cell_type": "markdown",
   "metadata": {},
   "source": [
    "## Needleman-Wunsch"
   ]
  },
  {
   "cell_type": "markdown",
   "metadata": {},
   "source": [
    "Needleman-Wunsch is the most basic global alignment algorithm. It uses a dynamic programming approach to find all alignments between two sequences which are optimal with respect to some pre-determined scores for matches, mismatches, and gaps. Needleman-Wunsch attempts to maximize the alignment score by efficiently testing all possible alignments (in so far as testing all possible alignments can be efficient, in this case $O(n^3)$).\n",
    "\n",
    "The basic version originally described by its authors uses the simple scoring technique described above. More advanced techniques use a mismatch matrix to assign different scores depending on which residues are being compared; for example, we might want a mismatch between G and C to have a lower penalty than between G and A. The simple implementation below opts to use the original naive system."
   ]
  },
  {
   "cell_type": "code",
   "execution_count": 25,
   "metadata": {
    "collapsed": true
   },
   "outputs": [],
   "source": [
    "DEFAULT_GAP = -6\n",
    "DEFAULT_MATCH = 5\n",
    "DEFAULT_MISMATCH = -2"
   ]
  },
  {
   "cell_type": "code",
   "execution_count": 54,
   "metadata": {
    "collapsed": true
   },
   "outputs": [],
   "source": [
    "def makeTable(X, Y, g):\n",
    "    ''' Given 2 sequences and the gap penalty, construct the Needleman-Wunsch starting table.\n",
    "    \n",
    "    Args:\n",
    "        X (string): The first sequence.\n",
    "        Y (string): The second sequence.\n",
    "        g (int): The gap penalty.\n",
    "    \n",
    "    Returns:\n",
    "        list: A len(X)+1 by len(Y)+1 table where all positions are 0 except the first row and column,\n",
    "        which are filled linearly with the gap penalty.\n",
    "    \n",
    "    '''\n",
    "    table = []\n",
    "    for i in range(0, len(X)+1):\n",
    "        table.append([0]*(len(Y)+1))\n",
    "    for i in range(0,len(X)+1,1):\n",
    "        table[i][0] = i*g\n",
    "    for j in range(0,len(Y)+1,1):\n",
    "        table[0][j] = j*g\n",
    "\n",
    "    return table\n",
    "\n",
    "\n",
    "def printTable(table, X, Y):\n",
    "    ''' Print out a scoring table and its two sequences in a nice format.\n",
    "    \n",
    "    Args:\n",
    "        table (list): The Needleman-Wunsch scoring table.\n",
    "        X (string): The first sequence, with sentinal character.\n",
    "        Y (string): The second sequence, with sentinal character.\n",
    "    '''\n",
    "    pt = ' '\n",
    "\n",
    "    for y in Y:\n",
    "        pt += y.rjust(4)\n",
    "    pt += '\\n'\n",
    "    for i in range(0, len(table)):\n",
    "        prow = X[i]\n",
    "        for c in table[i]:\n",
    "            prow += str(c).rjust(4)\n",
    "        prow += '\\n'\n",
    "        pt += prow\n",
    "    print pt\n",
    "\n",
    "\n",
    "def traceBack(table, X, Y, g, m, n, i, j, a1, a2, results):\n",
    "    ''' Recursively traceback a scoring table to construct the alignments.\n",
    "    \n",
    "    Args:\n",
    "        table (list): The completed scoring table.\n",
    "        X (string): The first sequence, with sentinal.\n",
    "        Y (string): The second sequence, with sentinal.\n",
    "        g (int): The gap penalty.\n",
    "        m (int): The match score.\n",
    "        n (int): The mismatch penalty.\n",
    "        i (int): The index in X.\n",
    "        j (int): The index in Y.\n",
    "        a1 (str): The alignment string for X.\n",
    "        a2 (str): The alignment string for Y.\n",
    "        results (list): List object to place results in.\n",
    "    '''\n",
    "    \n",
    "    if i < 0 or j < 0:\n",
    "        raise IndexError('Tracback went out of bounds ({i},{j})'.format(i=i, j=j))\n",
    "    if i == 0 and j != 0:\n",
    "        traceBack(table, X, Y, g, m, n, i, j-1, a1+'-', a2+Y[j], results)\n",
    "    if j == 0 and i != 0:\n",
    "        traceBack(table, X, Y, g, m, n, i-1, j, a1+X[i], a2+'-', results)\n",
    "    if i == 0 and j == 0:\n",
    "        a1 = a1[::-1]\n",
    "        a2 = a2[::-1]\n",
    "        results.append((a1, a2))\n",
    "    else:\n",
    "        a = table[i][j]\n",
    "        b = table[i-1][j]\n",
    "        c = table[i][j-1]\n",
    "        d = table[i-1][j-1]\n",
    "        if a-d == m and X[i] == Y[j]:\n",
    "            traceBack(table, X, Y, g, m, n, i-1, j-1, a1+X[i], a2+Y[j], results)\n",
    "        if a-d == n and X[i] != Y[j]:\n",
    "            traceBack(table, X, Y, g, m, n, i-1, j-1, a1+X[i], a2+Y[j], results)\n",
    "        if a - b == g:\n",
    "            traceBack(table, X, Y, g, m, n, i-1, j, a1+X[i], a2+'-', results)\n",
    "        if a - c == g:\n",
    "            traceBack(table, X, Y, g, m, n, i, j-1, a1+'-', a2+Y[j], results)"
   ]
  },
  {
   "cell_type": "code",
   "execution_count": 58,
   "metadata": {
    "collapsed": false
   },
   "outputs": [],
   "source": [
    "def NeedlemanWunsch(X, Y, gap, match, mismatch, quiet=True):\n",
    "    ''' Perform a global alignment between the sequences X and Y using the Needleman-Wunsch algorithm.\n",
    "    \n",
    "    Args:\n",
    "        X (str): The first sequence to be aligned.\n",
    "        Y (str): The second sequence to be aligned.\n",
    "        gap (int): The gap penalty.\n",
    "        match (int): The match score.\n",
    "        mismatch (int): The mismatch penalty.\n",
    "        quiet (Optional[bool]): Whether or not to print out diagnostic information. Defaults to True.\n",
    "        \n",
    "    Returns:\n",
    "        list: A list of the optimal alignments.\n",
    "    '''\n",
    "    table = makeTable(X, Y, gap)\n",
    "    \n",
    "    if not quiet:\n",
    "        print \"===Forward Needleman-Wunsch===\"\n",
    "        print \"Table Initialized\"\n",
    "        \n",
    "    X = '*' + X\n",
    "    Y = '*' + Y\n",
    "    \n",
    "    if not quiet:\n",
    "        printTable(table, X, Y)\n",
    "    \n",
    "    score = lambda a, b: match if a == b else mismatch\n",
    "\n",
    "    for i in range(1, len(table)):\n",
    "        for j in range(1, len(table[i])):\n",
    "            a = table[i-1][j-1] + score(X[i], Y[j])\n",
    "            b = table[i-1][j] + gap\n",
    "            c = table[i][j-1] + gap\n",
    "            table[i][j] = max(a, b, c)\n",
    "    if not quiet:\n",
    "        print \"Completed Table\"\n",
    "        printTable(table, X, Y)\n",
    "\n",
    "        print \"Optimal Alignments:\\n\"\n",
    "\n",
    "    results = []\n",
    "    traceBack(table, X, Y, gap, match, mismatch, len(X)-2, len(Y)-2, '', '', results)\n",
    "    if not quiet:\n",
    "        for a1, a2 in results:\n",
    "            print a1, '\\n', a2, '\\n'\n",
    "        print \"--End of Optimal Alignment List--\"\n",
    "\n",
    "    if not quiet:\n",
    "        print \"Parameters: gap={} match={} mismatch={}\".format(gap, match, mismatch)\n",
    "        print \"Optimal Global Alignment Score: {}\".format(table[len(table)-1][len(table[0])-1])\n",
    "        print \"=\" * 60 + '\\n'\n",
    "    \n",
    "    return results"
   ]
  },
  {
   "cell_type": "code",
   "execution_count": 59,
   "metadata": {
    "collapsed": false
   },
   "outputs": [
    {
     "data": {
      "text/plain": [
       "[('A-TT----CGGC-', 'AGTTGGGCCCGCG'),\n",
       " ('A-TT---C-GGC-', 'AGTTGGGCCCGCG'),\n",
       " ('A-TT---CG-GC-', 'AGTTGGGCCCGCG'),\n",
       " ('A-TT-CG---GC-', 'AGTTGGGCCCGCG'),\n",
       " ('A-TTC-G---GC-', 'AGTTGGGCCCGCG'),\n",
       " ('A-TTCG----GC-', 'AGTTGGGCCCGCG'),\n",
       " ('A-TTCGG----C-', 'AGTTGGGCCCGCG'),\n",
       " ('A-TTCGG--C---', 'AGTTGGGCCCGCG'),\n",
       " ('A-TTCGG-C----', 'AGTTGGGCCCGCG'),\n",
       " ('A-TTCGGC-----', 'AGTTGGGCCCGCG')]"
      ]
     },
     "execution_count": 59,
     "metadata": {},
     "output_type": "execute_result"
    }
   ],
   "source": [
    "NeedlemanWunsch('ATTCGGCT', 'AGTTGGGCCCGCGT', DEFAULT_GAP, DEFAULT_MATCH, DEFAULT_MISMATCH, quiet=True)"
   ]
  },
  {
   "cell_type": "code",
   "execution_count": null,
   "metadata": {
    "collapsed": true
   },
   "outputs": [],
   "source": []
  }
 ],
 "metadata": {
  "kernelspec": {
   "display_name": "Python 2",
   "language": "python",
   "name": "python2"
  },
  "language_info": {
   "codemirror_mode": {
    "name": "ipython",
    "version": 2
   },
   "file_extension": ".py",
   "mimetype": "text/x-python",
   "name": "python",
   "nbconvert_exporter": "python",
   "pygments_lexer": "ipython2",
   "version": "2.7.10"
  }
 },
 "nbformat": 4,
 "nbformat_minor": 0
}
